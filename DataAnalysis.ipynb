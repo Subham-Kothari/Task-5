{
 "cells": [
  {
   "cell_type": "code",
   "execution_count": 1,
   "id": "09879872-6f8e-4524-a159-f74188990d91",
   "metadata": {},
   "outputs": [
    {
     "ename": "ModuleNotFoundError",
     "evalue": "No module named 'matplotlib'",
     "output_type": "error",
     "traceback": [
      "\u001b[31m---------------------------------------------------------------------------\u001b[39m",
      "\u001b[31mModuleNotFoundError\u001b[39m                       Traceback (most recent call last)",
      "\u001b[36mCell\u001b[39m\u001b[36m \u001b[39m\u001b[32mIn[1]\u001b[39m\u001b[32m, line 5\u001b[39m\n\u001b[32m      1\u001b[39m \u001b[38;5;66;03m# Task 5 - Data Analysis on CSV Files using Pandas\u001b[39;00m\n\u001b[32m      2\u001b[39m \n\u001b[32m      3\u001b[39m \u001b[38;5;66;03m# --- Step 1: Import Libraries ---\u001b[39;00m\n\u001b[32m      4\u001b[39m \u001b[38;5;28;01mimport\u001b[39;00m\u001b[38;5;250m \u001b[39m\u001b[34;01mpandas\u001b[39;00m\u001b[38;5;250m \u001b[39m\u001b[38;5;28;01mas\u001b[39;00m\u001b[38;5;250m \u001b[39m\u001b[34;01mpd\u001b[39;00m\n\u001b[32m----> \u001b[39m\u001b[32m5\u001b[39m \u001b[38;5;28;01mimport\u001b[39;00m\u001b[38;5;250m \u001b[39m\u001b[34;01mmatplotlib\u001b[39;00m\u001b[34;01m.\u001b[39;00m\u001b[34;01mpyplot\u001b[39;00m\u001b[38;5;250m \u001b[39m\u001b[38;5;28;01mas\u001b[39;00m\u001b[38;5;250m \u001b[39m\u001b[34;01mplt\u001b[39;00m\n\u001b[32m      7\u001b[39m \u001b[38;5;66;03m# Enable inline plotting (for Jupyter/Colab)\u001b[39;00m\n\u001b[32m      8\u001b[39m get_ipython().run_line_magic(\u001b[33m'\u001b[39m\u001b[33mmatplotlib\u001b[39m\u001b[33m'\u001b[39m, \u001b[33m'\u001b[39m\u001b[33minline\u001b[39m\u001b[33m'\u001b[39m)\n",
      "\u001b[31mModuleNotFoundError\u001b[39m: No module named 'matplotlib'"
     ]
    }
   ],
   "source": [
    "# Task 5 - Data Analysis on CSV Files using Pandas\n",
    "\n",
    "# --- Step 1: Import Libraries ---\n",
    "import pandas as pd\n",
    "import matplotlib.pyplot as plt\n",
    "\n",
    "# Enable inline plotting (for Jupyter/Colab)\n",
    "%matplotlib inline\n",
    "\n",
    "# --- Step 2: Load the CSV file ---\n",
    "# Added encoding parameter to handle non-UTF-8 characters\n",
    "df = pd.read_csv(\"C:\\\\Users\\\\91962\\\\Desktop\\\\sales_data_sample.csv\", encoding='latin1')\n",
    "\n",
    "# --- Step 3: Explore the dataset ---\n",
    "print(\"First 5 rows of the dataset:\")\n",
    "display(df.head())\n",
    "\n",
    "print(\"\\nDataset Info:\")\n",
    "df.info()\n",
    "\n",
    "print(\"\\nDataset Shape (rows, columns):\", df.shape)\n",
    "\n",
    "print(\"\\nMissing Values in Each Column:\")\n",
    "print(df.isnull().sum())\n",
    "\n",
    "# --- Step 4: Basic Data Cleaning (if needed) ---\n",
    "# Fill missing values with 0 for numeric columns\n",
    "df = df.fillna(0)\n",
    "\n",
    "# --- Step 5: Grouping and Summarizing ---\n",
    "# Example: Total sales by category\n",
    "if \"Category\" in df.columns and \"Sales\" in df.columns:\n",
    "    sales_by_category = df.groupby(\"Category\")[\"Sales\"].sum()\n",
    "    print(\"\\nTotal Sales by Category:\")\n",
    "    print(sales_by_category)\n",
    "\n",
    "    # Plot sales by category\n",
    "    sales_by_category.plot(kind=\"bar\", color=\"skyblue\", figsize=(8,5))\n",
    "    plt.title(\"Total Sales by Category\")\n",
    "    plt.xlabel(\"Category\")\n",
    "    plt.ylabel(\"Total Sales\")\n",
    "    plt.xticks(rotation=45)\n",
    "    plt.tight_layout()\n",
    "    plt.show()\n",
    "\n",
    "# Example: Monthly sales trend (if 'Date' column exists)\n",
    "if \"Date\" in df.columns and \"Sales\" in df.columns:\n",
    "    df[\"Date\"] = pd.to_datetime(df[\"Date\"], errors=\"coerce\")\n",
    "    monthly_sales = df.groupby(df[\"Date\"].dt.to_period(\"M\"))[\"Sales\"].sum()\n",
    "    print(\"\\nMonthly Sales Trend:\")\n",
    "    print(monthly_sales)\n",
    "\n",
    "    # Plot monthly sales trend\n",
    "    monthly_sales.plot(kind=\"line\", marker=\"o\", figsize=(10,5))\n",
    "    plt.title(\"Monthly Sales Trend\")\n",
    "    plt.xlabel(\"Month\")\n",
    "    plt.ylabel(\"Total Sales\")\n",
    "    plt.grid(True)\n",
    "    plt.tight_layout()\n",
    "    plt.show()\n",
    "\n",
    "# --- Step 6: Save Processed Data ---\n",
    "df.to_csv(\"cleaned_sales.csv\", index=False, encoding='utf-8')  # Specify encoding for output file\n",
    "print(\"\\nCleaned dataset saved as 'cleaned_sales.csv'\")"
   ]
  },
  {
   "cell_type": "code",
   "execution_count": null,
   "id": "5a68d743-e7bc-4b65-9546-6fe9b6983016",
   "metadata": {},
   "outputs": [],
   "source": []
  }
 ],
 "metadata": {
  "kernelspec": {
   "display_name": "Python 3 (ipykernel)",
   "language": "python",
   "name": "python3"
  },
  "language_info": {
   "codemirror_mode": {
    "name": "ipython",
    "version": 3
   },
   "file_extension": ".py",
   "mimetype": "text/x-python",
   "name": "python",
   "nbconvert_exporter": "python",
   "pygments_lexer": "ipython3",
   "version": "3.12.6"
  }
 },
 "nbformat": 4,
 "nbformat_minor": 5
}
